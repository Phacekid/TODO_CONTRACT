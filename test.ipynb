{
 "cells": [
  {
   "cell_type": "markdown",
   "metadata": {},
   "source": [
    "## TODO Contract\n",
    "\n",
    "This project demonstrates a basic Hardhat use case. It has a todo list contract, a test for that contract, and a script that deploys that contract.\n",
    "The contract was also deployed on [Sepolia Testnet](https://sepolia.etherscan.io/address/0xc35de858FF871dbc216e4345373B82975dEB0928#writeContract)\n",
    "\n",
    "#### WALKTHROGH\n",
    "- After running `npm install`\n",
    "- You need to setup your environment variables by renaming _.env.example_ to _.env_, then replace the uppercase keywords with their actual keys and links  [ETHERSCAN_KEY](https://etherscan.io/apis), PRIVATE_KEY from [metamask](https://metamask.io/) and [INFURA_LINK](https://www.infura.io/)\n",
    "- You'll also need sepolia test ETH for deployment which can be gotten from various faucets like: [sepoliafaucet](https://sepoliafaucet.com/), [infurafaucet](https://www.infura.io/faucet/sepolia)\n",
    "\n",
    "#### SHELL COMMANDS\n",
    "- To compile the todo.sol\n",
    "\n",
    "`npx hardhat compile`\n",
    "- To test the contract\n",
    "\n",
    "`npx hardhat test`\n",
    "- To deploy to sepolia testnet\n",
    "\n",
    "```npx hardhat run scripts/deploy.js --network sepolia```"
   ]
  }
 ],
 "metadata": {
  "kernelspec": {
   "display_name": "Python 3",
   "language": "python",
   "name": "python3"
  },
  "language_info": {
   "codemirror_mode": {
    "name": "ipython",
    "version": 3
   },
   "file_extension": ".py",
   "mimetype": "text/x-python",
   "name": "python",
   "nbconvert_exporter": "python",
   "pygments_lexer": "ipython3",
   "version": "3.10.10"
  }
 },
 "nbformat": 4,
 "nbformat_minor": 2
}
